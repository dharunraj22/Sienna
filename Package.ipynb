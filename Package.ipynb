{
 "cells": [
  {
   "cell_type": "code",
   "execution_count": null,
   "id": "6df0a4f6",
   "metadata": {},
   "outputs": [],
   "source": [
    "from PIL import Image\n",
    "import cv2\n",
    "import numpy as np\n",
    "import matplotlib.pyplot as plt"
   ]
  },
  {
   "cell_type": "code",
   "execution_count": null,
   "id": "faee88ac",
   "metadata": {},
   "outputs": [],
   "source": [
    "# img = cv2.imread(\"graperot.jpg\")\n",
    "# grayimg = gray(to_hsv(img))\n",
    "# cv2.imshow(\"Img\",equalizehist(grayimg))\n",
    "# cv2.waitKey(0)\n",
    "# cv2.destroyAllWindows()"
   ]
  },
  {
   "cell_type": "code",
   "execution_count": null,
   "id": "a7f23c45",
   "metadata": {},
   "outputs": [],
   "source": [
    "def noise_removal(img2):\n",
    "    kernel = np.ones((5,5),np.float32)/25\n",
    "    noiseless = cv2.filter2D(img2,-1,kernel)\n",
    "#     cv2.imshow(\"Image\",noiseless)\n",
    "#     cv2.waitKey(0)\n",
    "#     cv2.destroyAllWindows()\n",
    "    \n",
    "    return noiseless"
   ]
  },
  {
   "cell_type": "code",
   "execution_count": null,
   "id": "f6239285",
   "metadata": {},
   "outputs": [],
   "source": [
    "def to_hsv(img2):\n",
    "    hsvImage = cv2.cvtColor(img2, cv2.COLOR_BGR2HSV)\n",
    "#     cv2.imshow(\"Image\",hsvImage)\n",
    "#     cv2.waitKey(0)\n",
    "#     cv2.destroyAllWindows()\n",
    "    \n",
    "    return hsvImage"
   ]
  },
  {
   "cell_type": "code",
   "execution_count": null,
   "id": "37e98c9c",
   "metadata": {},
   "outputs": [],
   "source": [
    "def gray(hsvImage):\n",
    "    grayimage=cv2.cvtColor(hsvImage,cv2.COLOR_BGR2GRAY)\n",
    "#     cv2.imshow(\"Image\",grayimage)\n",
    "#     cv2.waitKey(0)\n",
    "#     cv2.destroyAllWindows()\n",
    "    \n",
    "    return grayimage"
   ]
  },
  {
   "cell_type": "code",
   "execution_count": null,
   "id": "79a2f19e",
   "metadata": {},
   "outputs": [],
   "source": [
    "def hist(img2):\n",
    "    plt.hist(img2.ravel(),256,[0,256])\n",
    "    plt.show()"
   ]
  },
  {
   "cell_type": "code",
   "execution_count": null,
   "id": "e608d781",
   "metadata": {},
   "outputs": [],
   "source": [
    "def equalizehist(grayimage):\n",
    "    equalizedhist = cv2.equalizeHist(grayimage)\n",
    "#     cv2.imshow(\"Gray\",equalizedHist)\n",
    "#     cv2.waitKey(0)\n",
    "#     cv2.destroyAllWindows()\n",
    "    \n",
    "    return equalizedhist"
   ]
  },
  {
   "cell_type": "code",
   "execution_count": null,
   "id": "731e1668",
   "metadata": {},
   "outputs": [],
   "source": [
    "def Canny(grayimage):\n",
    "    v = np.median(grayimage)\n",
    "    sigma = 0.33\n",
    "    lower = int(max(0, (1.0 - sigma) * v))\n",
    "    upper = int(min(255, (1.0 + sigma) * v))\n",
    "    edged = cv2.Canny(grayimage, lower, upper)\n",
    "#     edged = cv2.Canny(grayimage,225,250)\n",
    "#     cv2.imshow(\"Canny\",edged)\n",
    "#     cv2.waitKey(0)\n",
    "#     cv2.destroyAllWindows()\n",
    "    \n",
    "    return edged"
   ]
  },
  {
   "cell_type": "code",
   "execution_count": null,
   "id": "8788b371",
   "metadata": {},
   "outputs": [],
   "source": [
    "def preProcess(img2):\n",
    "#     img2=cv2.imread(imgname)\n",
    "#     print(img2)\n",
    "#     cv2.imshow(\"Image\",img2)\n",
    "#     cv2.waitKey(0)\n",
    "#     cv2.destroyAllWindows()\n",
    "\n",
    "    noiseless = noise_removal(img2)\n",
    "    hsv_img = to_hsv(noiseless)\n",
    "    grayscale = gray(hsv_img)\n",
    "    edged = Canny(grayscale)\n",
    "    return edged\n",
    "    "
   ]
  },
  {
   "cell_type": "code",
   "execution_count": null,
   "id": "fdd3868a",
   "metadata": {},
   "outputs": [],
   "source": [
    "img  = cv2.imread(\"grapeleaf.jpg\")\n",
    "cv2.imshow(\"Img\",preProcess(img))\n",
    "cv2.waitKey(0)\n",
    "cv2.destroyAllWindows()"
   ]
  },
  {
   "cell_type": "code",
   "execution_count": null,
   "id": "2bacc2d2",
   "metadata": {},
   "outputs": [],
   "source": [
    "img = cv2.imread(\"E:\\Sem 5\\Computer Vision and Image Analysis\\Package\\Images\\grape leaf black rot\\badgrapes21.jpg\")\n",
    "# cv2.imshow(\"\",i)\n",
    "edged = preProcess(img)\n",
    "cv2.imwrite(\"E:\\Sem 5\\Computer Vision and Image Analysis\\Package\\Preprocessed Image\\GrapeLeaf blackrot\\preprocessed_badgrapes21.jpg\",edged)"
   ]
  },
  {
   "cell_type": "code",
   "execution_count": null,
   "id": "51c57cec",
   "metadata": {},
   "outputs": [],
   "source": [
    "import glob\n",
    "from IPython.display import Image, display\n",
    "for imageName in glob.glob('E:\\Sem 5\\Computer Vision and Image Analysis\\Package\\Images\\grape leaf black rot\\*.jpg'): #assuming JPG\n",
    "#     edged = preProcess(imageName)\n",
    "#     cv2.imshow(imageName,edged)\n",
    "#     cv2.waitKey(0)\n",
    "#     cv2.destroyAllWindows()\n",
    "#     cv2.imwrite(f\"E:\\Sem 5\\Computer Vision and Image Analysis\\Package\\Preprocessed Image\\GrapeLeaf\\preprocessed_.jpg\",edged)\n",
    "    print(imageName)"
   ]
  },
  {
   "cell_type": "code",
   "execution_count": null,
   "id": "eead66e8",
   "metadata": {},
   "outputs": [],
   "source": [
    "from sklearn import datasets\n",
    "mnist = datasets.load_digits()"
   ]
  },
  {
   "cell_type": "code",
   "execution_count": null,
   "id": "a52b129a",
   "metadata": {},
   "outputs": [],
   "source": [
    "X=mnist['data']\n",
    "X.shape"
   ]
  },
  {
   "cell_type": "code",
   "execution_count": null,
   "id": "b23a1289",
   "metadata": {},
   "outputs": [],
   "source": [
    "y=mnist['target']\n",
    "y.shape"
   ]
  },
  {
   "cell_type": "code",
   "execution_count": null,
   "id": "680df59b",
   "metadata": {},
   "outputs": [],
   "source": [
    "X_train, X_test, y_train, y_test = X[:1348], X[1348:], y[:1348], y[1348:]"
   ]
  },
  {
   "cell_type": "code",
   "execution_count": null,
   "id": "ce7a59c8",
   "metadata": {},
   "outputs": [],
   "source": [
    "from sklearn.linear_model import SGDClassifier\n",
    "sgd_clf = SGDClassifier(random_state=42)\n",
    "sgd_clf.fit(X_train, y_train_4)"
   ]
  },
  {
   "cell_type": "code",
   "execution_count": null,
   "id": "a5e61927",
   "metadata": {},
   "outputs": [],
   "source": []
  }
 ],
 "metadata": {
  "kernelspec": {
   "display_name": "Python 3 (ipykernel)",
   "language": "python",
   "name": "python3"
  },
  "language_info": {
   "codemirror_mode": {
    "name": "ipython",
    "version": 3
   },
   "file_extension": ".py",
   "mimetype": "text/x-python",
   "name": "python",
   "nbconvert_exporter": "python",
   "pygments_lexer": "ipython3",
   "version": "3.9.12"
  }
 },
 "nbformat": 4,
 "nbformat_minor": 5
}
